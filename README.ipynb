{
 "cells": [
  {
   "cell_type": "markdown",
   "metadata": {},
   "source": [
    "# COVIDdata\n",
    "\n",
    "Yet another python package for accessing COVID-19 data. Sorry. I have opinions and I don't like all the others.\n",
    "\n",
    "This package provides methods for fetching various COVID-19 related data sources. Results are provided as [xarray](http://xarray.pydata.org/) datasets, with consistent variable naming and attribution data included.\n",
    "\n",
    "## Installation\n",
    "\n",
    "I'm not going to clutter PyPI up with yet another COVID package. Just do `pip install git+https://github.com/russs/coviddata#egg=coviddata`.\n",
    "\n",
    "\n",
    "## Worldwide Data\n",
    "\n",
    "My preferred wordwide data source is [Our World in Data](https://ourworldindata.org/coronavirus-source-data) which sources their data from the ECDC. The `cases_owid` function downloads this data and returns a Dataset."
   ]
  },
  {
   "cell_type": "code",
   "execution_count": 10,
   "metadata": {},
   "outputs": [
    {
     "data": {
      "text/html": [
       "<pre>&lt;xarray.Dataset&gt;\n",
       "Dimensions:   (date: 104, location: 207)\n",
       "Coordinates:\n",
       "  * location  (location) object &#x27;Afghanistan&#x27; &#x27;Albania&#x27; ... &#x27;Zambia&#x27; &#x27;Zimbabwe&#x27;\n",
       "  * date      (date) datetime64[ns] 2019-12-31 2020-01-01 ... 2020-04-12\n",
       "Data variables:\n",
       "    cases     (location, date) float64 0.0 0.0 0.0 0.0 ... 11.0 11.0 11.0 14.0\n",
       "    deaths    (location, date) float64 0.0 0.0 0.0 0.0 0.0 ... 2.0 3.0 3.0 3.0\n",
       "Attributes:\n",
       "    date:        2020-04-12\n",
       "    source_url:  https://cowid.netlify.com/data/ecdc/full_data.csv\n",
       "    source:      ECDC (Our World in Data)</pre>"
      ],
      "text/plain": [
       "<xarray.Dataset>\n",
       "Dimensions:   (date: 104, location: 207)\n",
       "Coordinates:\n",
       "  * location  (location) object 'Afghanistan' 'Albania' ... 'Zambia' 'Zimbabwe'\n",
       "  * date      (date) datetime64[ns] 2019-12-31 2020-01-01 ... 2020-04-12\n",
       "Data variables:\n",
       "    cases     (location, date) float64 0.0 0.0 0.0 0.0 ... 11.0 11.0 11.0 14.0\n",
       "    deaths    (location, date) float64 0.0 0.0 0.0 0.0 0.0 ... 2.0 3.0 3.0 3.0\n",
       "Attributes:\n",
       "    date:        2020-04-12\n",
       "    source_url:  https://cowid.netlify.com/data/ecdc/full_data.csv\n",
       "    source:      ECDC (Our World in Data)"
      ]
     },
     "execution_count": 10,
     "metadata": {},
     "output_type": "execute_result"
    }
   ],
   "source": [
    "import coviddata.world\n",
    "world_cases = coviddata.world.cases_owid()\n",
    "world_cases"
   ]
  },
  {
   "cell_type": "markdown",
   "metadata": {},
   "source": [
    "We can filter this data by country, and convert it to a [pandas](https://pandas.pydata.org/) dataframe, giving us easy access to pandas' plotting functions."
   ]
  },
  {
   "cell_type": "code",
   "execution_count": 11,
   "metadata": {
    "scrolled": true
   },
   "outputs": [
    {
     "data": {
      "text/plain": [
       "<matplotlib.axes._subplots.AxesSubplot at 0x1230e5c10>"
      ]
     },
     "execution_count": 11,
     "metadata": {},
     "output_type": "execute_result"
    },
    {
     "data": {
      "image/png": "[encoded data removed]",
      "text/plain": [
       "<Figure size 432x288 with 1 Axes>"
      ]
     },
     "metadata": {
      "needs_background": "light"
     },
     "output_type": "display_data"
    }
   ],
   "source": [
    "(world_cases.sel(location=\"United States\")\n",
    "     .to_dataframe()\n",
    "     .plot(logy=True, title=\"US COVID-19 Cases & Deaths\"))"
   ]
  },
  {
   "cell_type": "markdown",
   "metadata": {},
   "source": [
    "## Country-specific Data\n",
    "\n",
    "Some country-specific data sources are more reliable or complete.\n",
    "\n",
    "UK data can be fetched from [Public Health England](https://www.gov.uk/government/publications/covid-19-track-coronavirus-cases), and US data from the [Covid Tracking Project](https://covidtracking.com/):"
   ]
  },
  {
   "cell_type": "code",
   "execution_count": null,
   "metadata": {},
   "outputs": [],
   "source": [
    "import coviddata.uk\n",
    "uk_cases = coviddata.uk.cases_phe()\n",
    "uk_cases"
   ]
  },
  {
   "cell_type": "code",
   "execution_count": 13,
   "metadata": {},
   "outputs": [
    {
     "data": {
      "text/html": [
       "<pre>&lt;xarray.Dataset&gt;\n",
       "Dimensions:   (date: 44, location: 1)\n",
       "Coordinates:\n",
       "  * location  (location) &lt;U13 &#x27;United States&#x27;\n",
       "  * date      (date) datetime64[ns] 2020-02-28 2020-02-29 ... 2020-04-11\n",
       "Data variables:\n",
       "    cases     (location, date) int64 9 18 31 35 ... 424289 458635 493252 522843\n",
       "    deaths    (location, date) int64 4 5 8 11 14 ... 14547 16424 18488 20355\n",
       "    tests     (location, date) int64 9 18 31 35 ... 2375355 2529282 2665666\n",
       "Attributes:\n",
       "    date:        2020-04-11\n",
       "    source:      COVID Tracking Project\n",
       "    source_url:  http://covidtracking.com/api/us/daily.csv</pre>"
      ],
      "text/plain": [
       "<xarray.Dataset>\n",
       "Dimensions:   (date: 44, location: 1)\n",
       "Coordinates:\n",
       "  * location  (location) <U13 'United States'\n",
       "  * date      (date) datetime64[ns] 2020-02-28 2020-02-29 ... 2020-04-11\n",
       "Data variables:\n",
       "    cases     (location, date) int64 9 18 31 35 ... 424289 458635 493252 522843\n",
       "    deaths    (location, date) int64 4 5 8 11 14 ... 14547 16424 18488 20355\n",
       "    tests     (location, date) int64 9 18 31 35 ... 2375355 2529282 2665666\n",
       "Attributes:\n",
       "    date:        2020-04-11\n",
       "    source:      COVID Tracking Project\n",
       "    source_url:  http://covidtracking.com/api/us/daily.csv"
      ]
     },
     "execution_count": 13,
     "metadata": {},
     "output_type": "execute_result"
    }
   ],
   "source": [
    "import coviddata.us\n",
    "us_cases = coviddata.us.cases_covidtracking()\n",
    "us_cases"
   ]
  },
  {
   "cell_type": "markdown",
   "metadata": {},
   "source": [
    "## Merging\n",
    "\n",
    "There's also a function to allow you quickly to combine these sources together:"
   ]
  },
  {
   "cell_type": "code",
   "execution_count": 14,
   "metadata": {},
   "outputs": [
    {
     "data": {
      "text/html": [
       "<pre>&lt;xarray.Dataset&gt;\n",
       "Dimensions:   (date: 104, location: 207)\n",
       "Coordinates:\n",
       "  * date      (date) datetime64[ns] 2019-12-31 2020-01-01 ... 2020-04-12\n",
       "  * location  (location) object &#x27;Afghanistan&#x27; &#x27;Albania&#x27; ... &#x27;Zambia&#x27; &#x27;Zimbabwe&#x27;\n",
       "Data variables:\n",
       "    cases     (location, date) float64 0.0 0.0 0.0 0.0 ... 11.0 11.0 11.0 14.0\n",
       "    deaths    (location, date) float64 0.0 0.0 0.0 0.0 0.0 ... 2.0 3.0 3.0 3.0\n",
       "    tests     (location, date) float64 nan nan nan nan nan ... nan nan nan nan\n",
       "Attributes:\n",
       "    source:      [&#x27;ECDC (Our World in Data)&#x27;, &#x27;Public Health England&#x27;, &#x27;COVID...\n",
       "    source_url:  [&#x27;https://cowid.netlify.com/data/ecdc/full_data.csv&#x27;, &#x27;https...\n",
       "    date:        [datetime.date(2020, 4, 12), datetime.date(2020, 4, 12), dat...</pre>"
      ],
      "text/plain": [
       "<xarray.Dataset>\n",
       "Dimensions:   (date: 104, location: 207)\n",
       "Coordinates:\n",
       "  * date      (date) datetime64[ns] 2019-12-31 2020-01-01 ... 2020-04-12\n",
       "  * location  (location) object 'Afghanistan' 'Albania' ... 'Zambia' 'Zimbabwe'\n",
       "Data variables:\n",
       "    cases     (location, date) float64 0.0 0.0 0.0 0.0 ... 11.0 11.0 11.0 14.0\n",
       "    deaths    (location, date) float64 0.0 0.0 0.0 0.0 0.0 ... 2.0 3.0 3.0 3.0\n",
       "    tests     (location, date) float64 nan nan nan nan nan ... nan nan nan nan\n",
       "Attributes:\n",
       "    source:      ['ECDC (Our World in Data)', 'Public Health England', 'COVID...\n",
       "    source_url:  ['https://cowid.netlify.com/data/ecdc/full_data.csv', 'https...\n",
       "    date:        [datetime.date(2020, 4, 12), datetime.date(2020, 4, 12), dat..."
      ]
     },
     "execution_count": 14,
     "metadata": {},
     "output_type": "execute_result"
    }
   ],
   "source": [
    "from coviddata import merge\n",
    "\n",
    "combined_cases = merge(world_cases, uk_cases, us_cases)\n",
    "combined_cases"
   ]
  },
  {
   "cell_type": "code",
   "execution_count": 15,
   "metadata": {},
   "outputs": [
    {
     "data": {
      "text/plain": [
       "<matplotlib.axes._subplots.AxesSubplot at 0x1238a3410>"
      ]
     },
     "execution_count": 15,
     "metadata": {},
     "output_type": "execute_result"
    },
    {
     "data": {
      "image/png": "[encoded data removed]",
      "text/plain": [
       "<Figure size 432x288 with 1 Axes>"
      ]
     },
     "metadata": {
      "needs_background": "light"
     },
     "output_type": "display_data"
    }
   ],
   "source": [
    "(combined_cases.sum(dim='location')\n",
    "     .to_dataframe()\n",
    "     .drop(columns=['tests'])\n",
    "     .plot(logy=True, title=\"Worldwide COVID-19 Cases & Deaths\"))"
   ]
  },
  {
   "cell_type": "markdown",
   "metadata": {},
   "source": [
    "## UK NHS Triage Data\n",
    "\n",
    "The NHS [publishes statistics](https://digital.nhs.uk/data-and-information/publications/statistical/mi-potential-covid-19-symptoms-reported-through-nhs-pathways-and-111-online) on the number of COVID-19 triage decisions made over 999, 111, and 111 Online.\n",
    "\n",
    "These functions are dependent on screen-scraping the NHS website and may be more unreliable."
   ]
  },
  {
   "cell_type": "code",
   "execution_count": 16,
   "metadata": {},
   "outputs": [
    {
     "data": {
      "text/html": [
       "<pre>&lt;xarray.Dataset&gt;\n",
       "Dimensions:    (age_band: 3, ccg: 229, date: 22, sex: 3, site_type: 2)\n",
       "Coordinates:\n",
       "  * date       (date) datetime64[ns] 2020-03-18 2020-03-19 ... 2020-04-08\n",
       "  * age_band   (age_band) object &#x27;0-18 years&#x27; &#x27;19-69 years&#x27; &#x27;70-120 years&#x27;\n",
       "  * ccg        (ccg) object &#x27;E38000001&#x27; &#x27;E38000002&#x27; ... &#x27;ZC030&#x27; &#x27;ZC040&#x27;\n",
       "  * site_type  (site_type) int64 111 999\n",
       "  * sex        (sex) object &#x27;Female&#x27; &#x27;Male&#x27; &#x27;Unknown&#x27;\n",
       "    ccg_name   (date, age_band, ccg, site_type, sex) object &#x27;NHS Airedale, Wharfedale and Craven CCG&#x27; ... nan\n",
       "Data variables:\n",
       "    count      (date, age_band, ccg, site_type, sex) float64 8.0 6.0 ... nan nan</pre>"
      ],
      "text/plain": [
       "<xarray.Dataset>\n",
       "Dimensions:    (age_band: 3, ccg: 229, date: 22, sex: 3, site_type: 2)\n",
       "Coordinates:\n",
       "  * date       (date) datetime64[ns] 2020-03-18 2020-03-19 ... 2020-04-08\n",
       "  * age_band   (age_band) object '0-18 years' '19-69 years' '70-120 years'\n",
       "  * ccg        (ccg) object 'E38000001' 'E38000002' ... 'ZC030' 'ZC040'\n",
       "  * site_type  (site_type) int64 111 999\n",
       "  * sex        (sex) object 'Female' 'Male' 'Unknown'\n",
       "    ccg_name   (date, age_band, ccg, site_type, sex) object 'NHS Airedale, Wharfedale and Craven CCG' ... nan\n",
       "Data variables:\n",
       "    count      (date, age_band, ccg, site_type, sex) float64 8.0 6.0 ... nan nan"
      ]
     },
     "execution_count": 16,
     "metadata": {},
     "output_type": "execute_result"
    }
   ],
   "source": [
    "coviddata.uk.triage_nhs_pathways()"
   ]
  },
  {
   "cell_type": "code",
   "execution_count": 20,
   "metadata": {},
   "outputs": [
    {
     "data": {
      "text/html": [
       "<pre>&lt;xarray.Dataset&gt;\n",
       "Dimensions:   (age_band: 3, ccg: 209, date: 22, sex: 2)\n",
       "Coordinates:\n",
       "  * date      (date) datetime64[ns] 2020-03-18 2020-03-19 ... 2020-04-08\n",
       "  * age_band  (age_band) object &#x27;0-18 years&#x27; &#x27;19-69 years&#x27; &#x27;70+ years&#x27;\n",
       "  * ccg       (ccg) object &#x27;E38000001&#x27; &#x27;E38000002&#x27; ... &#x27;E38000247&#x27; &#x27;E38000248&#x27;\n",
       "  * sex       (sex) object &#x27;Female&#x27; &#x27;Male&#x27;\n",
       "    ccg_name  (date, age_band, ccg, sex) object &#x27;NHS Airedale, Wharfedale and Craven CCG&#x27; ... &#x27;NHS West Sussex CCG&#x27;\n",
       "Data variables:\n",
       "    count     (date, age_band, ccg, sex) float64 17.0 16.0 27.0 ... 6.0 7.0 12.0</pre>"
      ],
      "text/plain": [
       "<xarray.Dataset>\n",
       "Dimensions:   (age_band: 3, ccg: 209, date: 22, sex: 2)\n",
       "Coordinates:\n",
       "  * date      (date) datetime64[ns] 2020-03-18 2020-03-19 ... 2020-04-08\n",
       "  * age_band  (age_band) object '0-18 years' '19-69 years' '70+ years'\n",
       "  * ccg       (ccg) object 'E38000001' 'E38000002' ... 'E38000247' 'E38000248'\n",
       "  * sex       (sex) object 'Female' 'Male'\n",
       "    ccg_name  (date, age_band, ccg, sex) object 'NHS Airedale, Wharfedale and Craven CCG' ... 'NHS West Sussex CCG'\n",
       "Data variables:\n",
       "    count     (date, age_band, ccg, sex) float64 17.0 16.0 27.0 ... 6.0 7.0 12.0"
      ]
     },
     "execution_count": 20,
     "metadata": {},
     "output_type": "execute_result"
    }
   ],
   "source": [
    "coviddata.uk.triage_nhs_online()"
   ]
  }
 ],
 "metadata": {
  "celltoolbar": "Tags",
  "kernelspec": {
   "display_name": "Python 3",
   "language": "python",
   "name": "python3"
  },
  "language_info": {
   "codemirror_mode": {
    "name": "ipython",
    "version": 3
   },
   "file_extension": ".py",
   "mimetype": "text/x-python",
   "name": "python",
   "nbconvert_exporter": "python",
   "pygments_lexer": "ipython3",
   "version": "3.7.6"
  }
 },
 "nbformat": 4,
 "nbformat_minor": 2
}
